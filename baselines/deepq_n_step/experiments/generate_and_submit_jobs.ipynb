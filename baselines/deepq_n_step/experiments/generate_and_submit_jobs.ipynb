{
 "cells": [
  {
   "cell_type": "code",
   "execution_count": 1,
   "metadata": {},
   "outputs": [],
   "source": [
    "import numpy as np\n",
    "import os"
   ]
  },
  {
   "cell_type": "markdown",
   "metadata": {},
   "source": [
    "# Classic Control"
   ]
  },
  {
   "cell_type": "code",
   "execution_count": 4,
   "metadata": {},
   "outputs": [],
   "source": [
    "CPU_NUM = 2\n",
    "JOB_TIME = '0-02:30'\n",
    "JOB_MEMORY = '8000M'\n",
    "job_sub_dir = './job_scripts'\n",
    "job_out_dir = './job_scripts_output'"
   ]
  },
  {
   "cell_type": "code",
   "execution_count": 5,
   "metadata": {},
   "outputs": [],
   "source": [
    "# os.makedirs(job_sub_dir)\n",
    "# os.makedirs(job_out_dir)"
   ]
  },
  {
   "cell_type": "code",
   "execution_count": 3,
   "metadata": {},
   "outputs": [
    {
     "name": "stdout",
     "output_type": "stream",
     "text": [
      "job_CartPole-v0_0_1.sh\n",
      "job_CartPole-v0_0_2.sh\n",
      "job_CartPole-v0_0_3.sh\n",
      "job_CartPole-v0_0_4.sh\n",
      "job_CartPole-v0_0_5.sh\n",
      "job_CartPole-v0_0_6.sh\n",
      "job_CartPole-v0_0_7.sh\n",
      "job_CartPole-v0_0_8.sh\n",
      "job_CartPole-v0_0_9.sh\n",
      "job_CartPole-v0_0_10.sh\n",
      "job_CartPole-v0_1_1.sh\n",
      "job_CartPole-v0_1_2.sh\n",
      "job_CartPole-v0_1_3.sh\n",
      "job_CartPole-v0_1_4.sh\n",
      "job_CartPole-v0_1_5.sh\n",
      "job_CartPole-v0_1_6.sh\n",
      "job_CartPole-v0_1_7.sh\n",
      "job_CartPole-v0_1_8.sh\n",
      "job_CartPole-v0_1_9.sh\n",
      "job_CartPole-v0_1_10.sh\n",
      "job_CartPole-v0_2_1.sh\n",
      "job_CartPole-v0_2_2.sh\n",
      "job_CartPole-v0_2_3.sh\n",
      "job_CartPole-v0_2_4.sh\n",
      "job_CartPole-v0_2_5.sh\n",
      "job_CartPole-v0_2_6.sh\n",
      "job_CartPole-v0_2_7.sh\n",
      "job_CartPole-v0_2_8.sh\n",
      "job_CartPole-v0_2_9.sh\n",
      "job_CartPole-v0_2_10.sh\n",
      "job_CartPole-v0_3_1.sh\n",
      "job_CartPole-v0_3_2.sh\n",
      "job_CartPole-v0_3_3.sh\n",
      "job_CartPole-v0_3_4.sh\n",
      "job_CartPole-v0_3_5.sh\n",
      "job_CartPole-v0_3_6.sh\n",
      "job_CartPole-v0_3_7.sh\n",
      "job_CartPole-v0_3_8.sh\n",
      "job_CartPole-v0_3_9.sh\n",
      "job_CartPole-v0_3_10.sh\n",
      "job_Acrobot-v1_0_1.sh\n",
      "job_Acrobot-v1_0_2.sh\n",
      "job_Acrobot-v1_0_3.sh\n",
      "job_Acrobot-v1_0_4.sh\n",
      "job_Acrobot-v1_0_5.sh\n",
      "job_Acrobot-v1_0_6.sh\n",
      "job_Acrobot-v1_0_7.sh\n",
      "job_Acrobot-v1_0_8.sh\n",
      "job_Acrobot-v1_0_9.sh\n",
      "job_Acrobot-v1_0_10.sh\n",
      "job_Acrobot-v1_1_1.sh\n",
      "job_Acrobot-v1_1_2.sh\n",
      "job_Acrobot-v1_1_3.sh\n",
      "job_Acrobot-v1_1_4.sh\n",
      "job_Acrobot-v1_1_5.sh\n",
      "job_Acrobot-v1_1_6.sh\n",
      "job_Acrobot-v1_1_7.sh\n",
      "job_Acrobot-v1_1_8.sh\n",
      "job_Acrobot-v1_1_9.sh\n",
      "job_Acrobot-v1_1_10.sh\n",
      "job_Acrobot-v1_2_1.sh\n",
      "job_Acrobot-v1_2_2.sh\n",
      "job_Acrobot-v1_2_3.sh\n",
      "job_Acrobot-v1_2_4.sh\n",
      "job_Acrobot-v1_2_5.sh\n",
      "job_Acrobot-v1_2_6.sh\n",
      "job_Acrobot-v1_2_7.sh\n",
      "job_Acrobot-v1_2_8.sh\n",
      "job_Acrobot-v1_2_9.sh\n",
      "job_Acrobot-v1_2_10.sh\n",
      "job_Acrobot-v1_3_1.sh\n",
      "job_Acrobot-v1_3_2.sh\n",
      "job_Acrobot-v1_3_3.sh\n",
      "job_Acrobot-v1_3_4.sh\n",
      "job_Acrobot-v1_3_5.sh\n",
      "job_Acrobot-v1_3_6.sh\n",
      "job_Acrobot-v1_3_7.sh\n",
      "job_Acrobot-v1_3_8.sh\n",
      "job_Acrobot-v1_3_9.sh\n",
      "job_Acrobot-v1_3_10.sh\n",
      "job_MountainCar-v0_0_1.sh\n",
      "job_MountainCar-v0_0_2.sh\n",
      "job_MountainCar-v0_0_3.sh\n",
      "job_MountainCar-v0_0_4.sh\n",
      "job_MountainCar-v0_0_5.sh\n",
      "job_MountainCar-v0_0_6.sh\n",
      "job_MountainCar-v0_0_7.sh\n",
      "job_MountainCar-v0_0_8.sh\n",
      "job_MountainCar-v0_0_9.sh\n",
      "job_MountainCar-v0_0_10.sh\n",
      "job_MountainCar-v0_1_1.sh\n",
      "job_MountainCar-v0_1_2.sh\n",
      "job_MountainCar-v0_1_3.sh\n",
      "job_MountainCar-v0_1_4.sh\n",
      "job_MountainCar-v0_1_5.sh\n",
      "job_MountainCar-v0_1_6.sh\n",
      "job_MountainCar-v0_1_7.sh\n",
      "job_MountainCar-v0_1_8.sh\n",
      "job_MountainCar-v0_1_9.sh\n",
      "job_MountainCar-v0_1_10.sh\n",
      "job_MountainCar-v0_2_1.sh\n",
      "job_MountainCar-v0_2_2.sh\n",
      "job_MountainCar-v0_2_3.sh\n",
      "job_MountainCar-v0_2_4.sh\n",
      "job_MountainCar-v0_2_5.sh\n",
      "job_MountainCar-v0_2_6.sh\n",
      "job_MountainCar-v0_2_7.sh\n",
      "job_MountainCar-v0_2_8.sh\n",
      "job_MountainCar-v0_2_9.sh\n",
      "job_MountainCar-v0_2_10.sh\n",
      "job_MountainCar-v0_3_1.sh\n",
      "job_MountainCar-v0_3_2.sh\n",
      "job_MountainCar-v0_3_3.sh\n",
      "job_MountainCar-v0_3_4.sh\n",
      "job_MountainCar-v0_3_5.sh\n",
      "job_MountainCar-v0_3_6.sh\n",
      "job_MountainCar-v0_3_7.sh\n",
      "job_MountainCar-v0_3_8.sh\n",
      "job_MountainCar-v0_3_9.sh\n",
      "job_MountainCar-v0_3_10.sh\n"
     ]
    }
   ],
   "source": [
    "tasks = ['CartPole-v0', 'Acrobot-v1', 'MountainCar-v0']\n",
    "seeds = ['0', '1', '2', '3']\n",
    "n_steps = [1, 2, 3, 4, 5, 6, 7, 8, 9, 10, 15, 20, 25, 30]\n",
    "\n",
    "for task in tasks:\n",
    "    for s in seeds:\n",
    "        for n in n_steps:\n",
    "            job_filename = 'job_{0}_{1}_{2}.sh'.format(task, s, n)\n",
    "            print(job_filename)\n",
    "            with open(os.path.join(job_sub_dir, job_filename), 'w') as job_file:\n",
    "                job_file.write('#!/bin/bash\\n')\n",
    "                job_file.write('#SBATCH --account=def-dkulic\\n')\n",
    "                job_file.write('#SBATCH --cpus-per-task={}    #Maximum of CPU cores per GPU request: 6 on Cedar, 16 on Graham.\\n'.format(CPU_NUM))\n",
    "                job_file.write('#SBATCH --mem={}               # memory per node\\n'.format(JOB_MEMORY))\n",
    "                job_file.write('#SBATCH --time={}            # time (DD-HH:MM)\\n'.format(JOB_TIME))\n",
    "                job_file.write('#SBATCH --output=./job_scripts_output/dqn_n_step_{0}_{1}_{2}_%N-%j.out        # %N for node name, %j for jobID\\n'.format(task, s, n))\n",
    "                job_file.write('## Main processing command\\n')\n",
    "                job_file.write('module load cuda cudnn \\n')\n",
    "                job_file.write('source ~/tf_gpu/bin/activate\\n')\n",
    "                job_file.write('python ./train_cartpole.py  --env_name {0} --seed {1} --n_step {2} --exp_name dqn_n_step_{0}_{2}step_s{1}'.format(task, s, n))\n"
   ]
  },
  {
   "cell_type": "code",
   "execution_count": null,
   "metadata": {},
   "outputs": [],
   "source": [
    "import os\n",
    "job_sub_dir = './job_scripts'\n",
    "jobs = os.listdir('./job_scripts')\n",
    "jobs.sort()\n",
    "i=1\n",
    "for job in jobs:\n",
    "    code = os.system('sbatch {}'.format(os.path.join(job_sub_dir, job)))\n",
    "    print('{} ---- {}: {}'.format(i, job, code))\n",
    "    i += 1\n"
   ]
  },
  {
   "cell_type": "markdown",
   "metadata": {},
   "source": [
    "# Atari"
   ]
  },
  {
   "cell_type": "code",
   "execution_count": 6,
   "metadata": {},
   "outputs": [],
   "source": [
    "import numpy as np\n",
    "import os\n",
    "CPU_NUM = 2\n",
    "JOB_TIME = '1-00:00'\n",
    "JOB_MEMORY = '10000M'\n",
    "job_sub_dir = './Atari_job_scripts'\n",
    "job_out_dir = './Atari_job_scripts_output'"
   ]
  },
  {
   "cell_type": "code",
   "execution_count": null,
   "metadata": {},
   "outputs": [],
   "source": [
    "# os.makedirs(job_sub_dir)\n",
    "# os.makedirs(job_out_dir)"
   ]
  },
  {
   "cell_type": "code",
   "execution_count": null,
   "metadata": {},
   "outputs": [],
   "source": [
    "tasks = ['PongNoFrameskip-v4', 'BreakoutNoFrameskip-v4', 'SpaceInvadersNoFrameskip-v4', 'AtlantisNoFrameskip-v4',\n",
    "         'MontezumaRevengeNoFrameskip-v4', 'SeaquestNoFrameskip-v4']\n",
    "seeds = ['0', '1', '2', '3']\n",
    "n_steps = [1, 2, 3, 4, 5, 6, 7, 8, 9, 10, 15, 20, 25, 30]\n",
    "\n",
    "for task in tasks:\n",
    "    for s in seeds:\n",
    "        for n in n_steps:\n",
    "            job_filename = 'job_{0}_{1}_{2}.sh'.format(task, s, n)\n",
    "            print(job_filename)\n",
    "            with open(os.path.join(job_sub_dir, job_filename), 'w') as job_file:\n",
    "                job_file.write('#!/bin/bash\\n')\n",
    "                job_file.write('#SBATCH --account=def-dkulic\\n')\n",
    "                job_file.write('#SBATCH --cpus-per-task={}    #Maximum of CPU cores per GPU request: 6 on Cedar, 16 on Graham.\\n'.format(CPU_NUM))\n",
    "                job_file.write('#SBATCH --mem={}               # memory per node\\n'.format(JOB_MEMORY))\n",
    "                job_file.write('#SBATCH --time={}            # time (DD-HH:MM)\\n'.format(JOB_TIME))\n",
    "                job_file.write('#SBATCH --output=./job_scripts_output/dqn_n_step_{0}_{1}_{2}_%N-%j.out        # %N for node name, %j for jobID\\n'.format(task, s, n))\n",
    "                job_file.write('## Main processing command\\n')\n",
    "                job_file.write('module load cuda cudnn \\n')\n",
    "                job_file.write('source ~/tf_gpu/bin/activate\\n')\n",
    "                job_file.write('python ./train_pong.py  --env_name {0} --seed {1} --n_step {2} --exp_name dqn_n_step_{0}_{2}step_s{1}'.format(task, s, n))\n"
   ]
  },
  {
   "cell_type": "code",
   "execution_count": null,
   "metadata": {},
   "outputs": [],
   "source": [
    "import os\n",
    "job_sub_dir = './Atari_job_scripts'\n",
    "jobs = os.listdir(job_sub_dir)\n",
    "jobs.sort()\n",
    "i=1\n",
    "for job in jobs:\n",
    "    code = os.system('sbatch {}'.format(os.path.join(job_sub_dir, job)))\n",
    "    print('{} ---- {}: {}'.format(i, job, code))\n",
    "    i += 1\n"
   ]
  }
 ],
 "metadata": {
  "kernelspec": {
   "display_name": "Python 3",
   "language": "python",
   "name": "python3"
  },
  "language_info": {
   "codemirror_mode": {
    "name": "ipython",
    "version": 3
   },
   "file_extension": ".py",
   "mimetype": "text/x-python",
   "name": "python",
   "nbconvert_exporter": "python",
   "pygments_lexer": "ipython3",
   "version": "3.6.8"
  }
 },
 "nbformat": 4,
 "nbformat_minor": 2
}
